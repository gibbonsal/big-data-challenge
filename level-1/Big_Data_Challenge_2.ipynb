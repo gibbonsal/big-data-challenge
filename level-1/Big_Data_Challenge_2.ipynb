{
 "cells": [
  {
   "cell_type": "code",
   "execution_count": 1,
   "metadata": {
    "colab": {
     "base_uri": "https://localhost:8080/"
    },
    "id": "AmBcu_Ui16Wb",
    "outputId": "e5839921-52e0-4a94-82d5-b2d1b51a58a3"
   },
   "outputs": [
    {
     "name": "stdout",
     "output_type": "stream",
     "text": [
      "\r",
      "0% [Working]\r",
      "            \r",
      "Get:1 https://cloud.r-project.org/bin/linux/ubuntu bionic-cran40/ InRelease [3,626 B]\n",
      "\r",
      "0% [Waiting for headers] [Waiting for headers] [1 InRelease 0 B/3,626 B 0%] [Wa\r",
      "0% [Waiting for headers] [Waiting for headers] [Waiting for headers] [Waiting f\r",
      "0% [1 InRelease gpgv 3,626 B] [Waiting for headers] [Waiting for headers] [Wait\r",
      "                                                                               \r",
      "Get:2 http://ppa.launchpad.net/c2d4u.team/c2d4u4.0+/ubuntu bionic InRelease [15.9 kB]\n",
      "\r",
      "0% [1 InRelease gpgv 3,626 B] [Waiting for headers] [Waiting for headers] [2 In\r",
      "                                                                               \r",
      "Hit:3 http://archive.ubuntu.com/ubuntu bionic InRelease\n",
      "\r",
      "0% [1 InRelease gpgv 3,626 B] [Waiting for headers] [2 InRelease 2,572 B/15.9 k\r",
      "                                                                               \r",
      "Get:4 http://security.ubuntu.com/ubuntu bionic-security InRelease [88.7 kB]\n",
      "Ign:5 https://developer.download.nvidia.com/compute/cuda/repos/ubuntu1804/x86_64  InRelease\n",
      "Get:6 http://archive.ubuntu.com/ubuntu bionic-updates InRelease [88.7 kB]\n",
      "Ign:7 https://developer.download.nvidia.com/compute/machine-learning/repos/ubuntu1804/x86_64  InRelease\n",
      "Get:8 https://developer.download.nvidia.com/compute/cuda/repos/ubuntu1804/x86_64  Release [696 B]\n",
      "Hit:9 https://developer.download.nvidia.com/compute/machine-learning/repos/ubuntu1804/x86_64  Release\n",
      "Get:10 https://developer.download.nvidia.com/compute/cuda/repos/ubuntu1804/x86_64  Release.gpg [836 B]\n",
      "Hit:11 http://ppa.launchpad.net/cran/libgit2/ubuntu bionic InRelease\n",
      "Get:12 https://cloud.r-project.org/bin/linux/ubuntu bionic-cran40/ Packages [76.8 kB]\n",
      "Get:13 http://archive.ubuntu.com/ubuntu bionic-backports InRelease [74.6 kB]\n",
      "Hit:14 http://ppa.launchpad.net/deadsnakes/ppa/ubuntu bionic InRelease\n",
      "Get:15 http://ppa.launchpad.net/graphics-drivers/ppa/ubuntu bionic InRelease [21.3 kB]\n",
      "Get:16 http://ppa.launchpad.net/c2d4u.team/c2d4u4.0+/ubuntu bionic/main Sources [1,827 kB]\n",
      "Get:18 https://developer.download.nvidia.com/compute/cuda/repos/ubuntu1804/x86_64  Packages [930 kB]\n",
      "Get:19 http://security.ubuntu.com/ubuntu bionic-security/main amd64 Packages [2,596 kB]\n",
      "Get:20 http://ppa.launchpad.net/c2d4u.team/c2d4u4.0+/ubuntu bionic/main amd64 Packages [936 kB]\n",
      "Get:21 http://archive.ubuntu.com/ubuntu bionic-updates/main amd64 Packages [3,035 kB]\n",
      "Get:22 http://security.ubuntu.com/ubuntu bionic-security/restricted amd64 Packages [806 kB]\n",
      "Get:23 http://security.ubuntu.com/ubuntu bionic-security/universe amd64 Packages [1,474 kB]\n",
      "Get:24 http://archive.ubuntu.com/ubuntu bionic-updates/universe amd64 Packages [2,252 kB]\n",
      "Get:25 http://archive.ubuntu.com/ubuntu bionic-updates/restricted amd64 Packages [840 kB]\n",
      "Get:26 http://ppa.launchpad.net/graphics-drivers/ppa/ubuntu bionic/main amd64 Packages [42.8 kB]\n",
      "Fetched 15.1 MB in 4s (4,247 kB/s)\n",
      "Reading package lists... Done\n"
     ]
    }
   ],
   "source": [
    "import os\n",
    "# Find the latest version of spark 3.0  from http://www.apache.org/dist/spark/ and enter as the spark version\n",
    "# For example:\n",
    "# spark_version = 'spark-3.0.3'\n",
    "spark_version = 'spark-3.2.1'\n",
    "os.environ['SPARK_VERSION']=spark_version\n",
    "\n",
    "# Install Spark and Java.\n",
    "!apt-get update\n",
    "!apt-get install openjdk-8-jdk-headless -qq > /dev/null\n",
    "!wget -q http://www.apache.org/dist/spark/$SPARK_VERSION/$SPARK_VERSION-bin-hadoop2.7.tgz\n",
    "!tar xf $SPARK_VERSION-bin-hadoop2.7.tgz\n",
    "!pip install -q findspark\n",
    "\n",
    "# Set Environment Variables.\n",
    "os.environ[\"JAVA_HOME\"] = \"/usr/lib/jvm/java-8-openjdk-amd64\"\n",
    "os.environ[\"SPARK_HOME\"] = f\"/content/{spark_version}-bin-hadoop2.7\"\n",
    "\n",
    "# Start a SparkSession.\n",
    "import findspark\n",
    "findspark.init()\n"
   ]
  },
  {
   "cell_type": "code",
   "execution_count": 2,
   "metadata": {
    "colab": {
     "base_uri": "https://localhost:8080/"
    },
    "id": "53155Q7J185Z",
    "outputId": "31353710-ab47-4a0a-bb16-5b671a5b6209"
   },
   "outputs": [
    {
     "name": "stdout",
     "output_type": "stream",
     "text": [
      "--2022-03-01 09:32:00--  https://jdbc.postgresql.org/download/postgresql-42.2.9.jar\n",
      "Resolving jdbc.postgresql.org (jdbc.postgresql.org)... 72.32.157.228, 2001:4800:3e1:1::228\n",
      "Connecting to jdbc.postgresql.org (jdbc.postgresql.org)|72.32.157.228|:443... connected.\n",
      "HTTP request sent, awaiting response... 200 OK\n",
      "Length: 914037 (893K) [application/java-archive]\n",
      "Saving to: ‘postgresql-42.2.9.jar’\n",
      "\n",
      "postgresql-42.2.9.j 100%[===================>] 892.61K  2.18MB/s    in 0.4s    \n",
      "\n",
      "2022-03-01 09:32:01 (2.18 MB/s) - ‘postgresql-42.2.9.jar’ saved [914037/914037]\n",
      "\n"
     ]
    }
   ],
   "source": [
    "!wget https://jdbc.postgresql.org/download/postgresql-42.2.9.jar"
   ]
  },
  {
   "cell_type": "code",
   "execution_count": 3,
   "metadata": {
    "id": "Ypjd_NHu188a"
   },
   "outputs": [],
   "source": [
    "from pyspark.sql import SparkSession\n",
    "spark = SparkSession.builder.appName(\"CloudETL\").config(\"spark.driver.extraClassPath\",\"/content/postgresql-42.2.9.jar\").getOrCreate()"
   ]
  },
  {
   "cell_type": "code",
   "execution_count": 4,
   "metadata": {
    "colab": {
     "base_uri": "https://localhost:8080/"
    },
    "id": "Ry25Apbq18--",
    "outputId": "182a6959-f497-4afa-ea7a-8547c9fce482"
   },
   "outputs": [
    {
     "name": "stdout",
     "output_type": "stream",
     "text": [
      "+-----------+-----------+--------------+----------+--------------+--------------------+-------------------+-----------+-------------+-----------+----+-----------------+--------------------+--------------------+-----------+\n",
      "|marketplace|customer_id|     review_id|product_id|product_parent|       product_title|   product_category|star_rating|helpful_votes|total_votes|vine|verified_purchase|     review_headline|         review_body|review_date|\n",
      "+-----------+-----------+--------------+----------+--------------+--------------------+-------------------+-----------+-------------+-----------+----+-----------------+--------------------+--------------------+-----------+\n",
      "|         US|   45610553| RMDCHWD0Y5OZ9|B00HH62VB6|     618218723|AGPtek® 10 Isolat...|Musical Instruments|          3|            0|          1|   N|                N|         Three Stars|Works very good, ...| 2015-08-31|\n",
      "|         US|   14640079| RZSL0BALIYUNU|B003LRN53I|     986692292|Sennheiser HD203 ...|Musical Instruments|          5|            0|          0|   N|                Y|          Five Stars|Nice headphones a...| 2015-08-31|\n",
      "|         US|    6111003| RIZR67JKUDBI0|B0006VMBHI|     603261968|AudioQuest LP rec...|Musical Instruments|          3|            0|          1|   N|                Y|         Three Stars|removes dust. doe...| 2015-08-31|\n",
      "|         US|    1546619|R27HL570VNL85F|B002B55TRG|     575084461|Hohner Inc. 560BX...|Musical Instruments|          5|            0|          0|   N|                Y|I purchase these ...|I purchase these ...| 2015-08-31|\n",
      "|         US|   12222213|R34EBU9QDWJ1GD|B00N1YPXW2|     165236328|Blue Yeti USB Mic...|Musical Instruments|          5|            0|          0|   N|                Y|          Five Stars|This is an awesom...| 2015-08-31|\n",
      "|         US|   46018513|R1WCUI4Z1SIQEO|B001N4GRGS|     134151483|Middle Atlantic P...|Musical Instruments|          5|            0|          0|   N|                N|          Five Stars|Used to cool equi...| 2015-08-31|\n",
      "|         US|   10225065| RL5LNO26GAVJ1|B009PJRMHQ|     694166585|Kmise 1pc Pickgua...|Musical Instruments|          2|            3|          4|   N|                Y|Will not Fit Epip...|Note- Does not Fi...| 2015-08-31|\n",
      "|         US|    6356995|R3GYQ5W8JHP8SB|B00NKBDAZS|     446431775|Kealoha Concert U...|Musical Instruments|          5|            0|          0|   N|                Y|          Five Stars|Well built Ukulel...| 2015-08-31|\n",
      "|         US|   35297198|R30SHYQXGG5EYC|B006MIU7U2|     125871705|Halco 80000 - MR1...|Musical Instruments|          5|            0|          0|   N|                Y|Works fine. Hope ...|Had to replace a ...| 2015-08-31|\n",
      "|         US|   32139520|R14YLXA56NP51I|B000FIBD0I|     771888534|Gator GPTBLACK Pl...|Musical Instruments|          5|            1|          1|   N|                N|I upgraded the po...|I've owned multip...| 2015-08-31|\n",
      "+-----------+-----------+--------------+----------+--------------+--------------------+-------------------+-----------+-------------+-----------+----+-----------------+--------------------+--------------------+-----------+\n",
      "only showing top 10 rows\n",
      "\n"
     ]
    }
   ],
   "source": [
    "from pyspark import SparkFiles\n",
    "# Load in user_data.csv from S3 into a DataFrame.\n",
    "url = \"https://s3.amazonaws.com/amazon-reviews-pds/tsv/amazon_reviews_us_Musical_Instruments_v1_00.tsv.gz\"\n",
    "spark.sparkContext.addFile(url)\n",
    "\n",
    "instrument_df = spark.read.option(\"header\", \"true\").option(\"sep\", \"\\t\").csv(\"file://\" + SparkFiles.get(\"amazon_reviews_us_Musical_Instruments_v1_00.tsv.gz\"))\n",
    "instrument_df.show(10)\n"
   ]
  },
  {
   "cell_type": "code",
   "execution_count": 5,
   "metadata": {
    "colab": {
     "base_uri": "https://localhost:8080/"
    },
    "id": "GpiS1JPl19Bo",
    "outputId": "5153f713-c9df-4763-9f89-028f15b6c2b8"
   },
   "outputs": [
    {
     "data": {
      "text/plain": [
       "904765"
      ]
     },
     "execution_count": 5,
     "metadata": {},
     "output_type": "execute_result"
    }
   ],
   "source": [
    "# Count the number of records (rows) in the dataset.\n",
    "instrument_df.count()"
   ]
  },
  {
   "cell_type": "code",
   "execution_count": 6,
   "metadata": {
    "colab": {
     "base_uri": "https://localhost:8080/"
    },
    "id": "IMkzHoGl19EG",
    "outputId": "469587c9-f275-4662-cd97-c11abb9bf6c2"
   },
   "outputs": [
    {
     "data": {
      "text/plain": [
       "DataFrame[marketplace: string, customer_id: string, review_id: string, product_id: string, product_parent: string, product_title: string, product_category: string, star_rating: string, helpful_votes: string, total_votes: string, vine: string, verified_purchase: string, review_headline: string, review_body: string, review_date: string]"
      ]
     },
     "execution_count": 6,
     "metadata": {},
     "output_type": "execute_result"
    }
   ],
   "source": [
    "# Drop all nulls.\n",
    "instrument_df.dropna()"
   ]
  },
  {
   "cell_type": "code",
   "execution_count": 7,
   "metadata": {
    "colab": {
     "base_uri": "https://localhost:8080/"
    },
    "id": "dBMUpNYt19Go",
    "outputId": "214d866c-8160-4558-fdc4-056d011f0bee"
   },
   "outputs": [
    {
     "name": "stdout",
     "output_type": "stream",
     "text": [
      "+-----------+-----+\n",
      "|customer_id|count|\n",
      "+-----------+-----+\n",
      "|   10000081|    1|\n",
      "|   10000121|    2|\n",
      "|   10000128|    1|\n",
      "|   10000162|    1|\n",
      "|   10000206|    1|\n",
      "|   10000304|    1|\n",
      "|   10000313|    1|\n",
      "|   10000327|    2|\n",
      "|    1000037|    2|\n",
      "|   10000388|    1|\n",
      "|    1000039|    1|\n",
      "|   10000504|    1|\n",
      "|   10000554|    1|\n",
      "|   10000589|    1|\n",
      "|   10000631|    1|\n",
      "|   10000647|    1|\n",
      "|   10000655|    1|\n",
      "|   10000675|    1|\n",
      "|   10000735|    1|\n",
      "|   10000800|    8|\n",
      "+-----------+-----+\n",
      "only showing top 20 rows\n",
      "\n"
     ]
    }
   ],
   "source": [
    "# Find the total amount of customers who reviewed.\n",
    "\n",
    "cust_groupby = instrument_df.groupBy(\"customer_id\").count()\n",
    "cust_groupby.orderBy(\"customer_id\").select(\"customer_id\", \"count\").show()"
   ]
  },
  {
   "cell_type": "code",
   "execution_count": 8,
   "metadata": {
    "colab": {
     "base_uri": "https://localhost:8080/"
    },
    "id": "coqDZU4p19JP",
    "outputId": "2278b1e9-eef0-49c5-9b36-9a6e377408fa"
   },
   "outputs": [
    {
     "name": "stdout",
     "output_type": "stream",
     "text": [
      "+-------+-------------------+\n",
      "|summary|        customer_id|\n",
      "+-------+-------------------+\n",
      "|  count|             573149|\n",
      "|   mean|2.683409559563569E7|\n",
      "| stddev|1.559017532437193E7|\n",
      "|    min|           10000081|\n",
      "|    max|            9999947|\n",
      "+-------+-------------------+\n",
      "\n"
     ]
    }
   ],
   "source": [
    "cust_groupby.select([\"customer_id\"]).describe().show()"
   ]
  },
  {
   "cell_type": "code",
   "execution_count": 21,
   "metadata": {
    "colab": {
     "base_uri": "https://localhost:8080/"
    },
    "id": "36fHjL3_19L-",
    "outputId": "2ccb1099-765b-4472-edef-5ab6d01937d2"
   },
   "outputs": [
    {
     "name": "stdout",
     "output_type": "stream",
     "text": [
      "+-----------+-----------+--------------+----------+--------------+--------------------+-------------------+-----------+-------------+-----------+----+-----------------+--------------------+--------------------+-----------+--------------+\n",
      "|marketplace|customer_id|     review_id|product_id|product_parent|       product_title|   product_category|star_rating|helpful_votes|total_votes|vine|verified_purchase|     review_headline|         review_body|review_date|customer_count|\n",
      "+-----------+-----------+--------------+----------+--------------+--------------------+-------------------+-----------+-------------+-----------+----+-----------------+--------------------+--------------------+-----------+--------------+\n",
      "|         US|   45610553| RMDCHWD0Y5OZ9|B00HH62VB6|     618218723|AGPtek® 10 Isolat...|Musical Instruments|          3|            0|          1|   N|                N|         Three Stars|Works very good, ...| 2015-08-31|        573149|\n",
      "|         US|   14640079| RZSL0BALIYUNU|B003LRN53I|     986692292|Sennheiser HD203 ...|Musical Instruments|          5|            0|          0|   N|                Y|          Five Stars|Nice headphones a...| 2015-08-31|        573149|\n",
      "|         US|    6111003| RIZR67JKUDBI0|B0006VMBHI|     603261968|AudioQuest LP rec...|Musical Instruments|          3|            0|          1|   N|                Y|         Three Stars|removes dust. doe...| 2015-08-31|        573149|\n",
      "|         US|    1546619|R27HL570VNL85F|B002B55TRG|     575084461|Hohner Inc. 560BX...|Musical Instruments|          5|            0|          0|   N|                Y|I purchase these ...|I purchase these ...| 2015-08-31|        573149|\n",
      "|         US|   12222213|R34EBU9QDWJ1GD|B00N1YPXW2|     165236328|Blue Yeti USB Mic...|Musical Instruments|          5|            0|          0|   N|                Y|          Five Stars|This is an awesom...| 2015-08-31|        573149|\n",
      "|         US|   46018513|R1WCUI4Z1SIQEO|B001N4GRGS|     134151483|Middle Atlantic P...|Musical Instruments|          5|            0|          0|   N|                N|          Five Stars|Used to cool equi...| 2015-08-31|        573149|\n",
      "|         US|   10225065| RL5LNO26GAVJ1|B009PJRMHQ|     694166585|Kmise 1pc Pickgua...|Musical Instruments|          2|            3|          4|   N|                Y|Will not Fit Epip...|Note- Does not Fi...| 2015-08-31|        573149|\n",
      "|         US|    6356995|R3GYQ5W8JHP8SB|B00NKBDAZS|     446431775|Kealoha Concert U...|Musical Instruments|          5|            0|          0|   N|                Y|          Five Stars|Well built Ukulel...| 2015-08-31|        573149|\n",
      "|         US|   35297198|R30SHYQXGG5EYC|B006MIU7U2|     125871705|Halco 80000 - MR1...|Musical Instruments|          5|            0|          0|   N|                Y|Works fine. Hope ...|Had to replace a ...| 2015-08-31|        573149|\n",
      "|         US|   32139520|R14YLXA56NP51I|B000FIBD0I|     771888534|Gator GPTBLACK Pl...|Musical Instruments|          5|            1|          1|   N|                N|I upgraded the po...|I've owned multip...| 2015-08-31|        573149|\n",
      "|         US|   36060782|R1ZH0HSH38IOTZ|B0002E52GG|      68535945|Hetman 1 - Light ...|Musical Instruments|          5|            0|          0|   N|                Y|My son's favourit...|Consistent qualit...| 2015-08-31|        573149|\n",
      "|         US|    5301309|R3H53KLLC210XI|B00RZIH52G|     725541773|Dragonpad pop fil...|Musical Instruments|          4|            0|          0|   N|                Y|Great pop filter ...|by far the best p...| 2015-08-31|        573149|\n",
      "|         US|   37472935|R3OOR877NGA8JK|B001792BAU|      46570323|DharmaObjects Rel...|Musical Instruments|          3|            0|          0|   N|                Y|                  Ok|Beautiful set. On...| 2015-08-31|        573149|\n",
      "|         US|   33578270|R1BY7WKOZ3KMH0|B009GSKW1Y|     547963417|Musiclily SSS Pla...|Musical Instruments|          2|            0|          0|   N|                Y|           Two Stars|Bridge pickup was...| 2015-08-31|        573149|\n",
      "|         US|   22070226| RXP1TFSWE8EG9|B0002F4TKA|     436074323|Vic Firth America...|Musical Instruments|          5|            0|          0|   N|                Y|          Five Stars|Feels good and la...| 2015-08-31|        573149|\n",
      "|         US|   52862655|R3J44DPP12OTLJ|B00K17YFBW|      81933093|Guitar Stand for ...|Musical Instruments|          5|            0|          0|   N|                Y|Great stand... on...|I love the stand....| 2015-08-31|        573149|\n",
      "|         US|    4427243| RFOV69SK0T676|B00EQ24HJS|     669249276|Generic 3PLY Faux...|Musical Instruments|          5|            0|          0|   N|                Y|Looks great. You ...|On time. Looks gr...| 2015-08-31|        573149|\n",
      "|         US|   14108571|R2HUWDNW62FOL3|B00IBOYTUE|     749537231|Audio 2000 6525 3...|Musical Instruments|          1|            0|          0|   N|                Y|  Poor sound quality|I was hoping it w...| 2015-08-31|        573149|\n",
      "|         US|   27314089|R1KSU30XZGR452|B00FBRUSAE|     792472601|Sawtooth ST-AMP-1...|Musical Instruments|          5|            0|          0|   N|                Y|Perfect for the b...|Good sound for it...| 2015-08-31|        573149|\n",
      "|         US|   16735445|R2TZVLLTSHA07N|B0113D2QUO|     269114019|Upado Unlimited G...|Musical Instruments|          5|            1|          1|   N|                Y|It really is a mu...|Wow! I didn't exp...| 2015-08-31|        573149|\n",
      "+-----------+-----------+--------------+----------+--------------+--------------------+-------------------+-----------+-------------+-----------+----+-----------------+--------------------+--------------------+-----------+--------------+\n",
      "only showing top 20 rows\n",
      "\n"
     ]
    }
   ],
   "source": [
    "#Add the column customer_count to instrument_df.\n",
    "\n",
    "from pyspark.sql.functions import lit\n",
    "\n",
    "instrument_df = instrument_df.withColumn('customer_count', lit(573149))\n",
    "instrument_df.show()"
   ]
  },
  {
   "cell_type": "code",
   "execution_count": 10,
   "metadata": {
    "colab": {
     "base_uri": "https://localhost:8080/"
    },
    "id": "W6Sn7f1W19On",
    "outputId": "47246ee4-6ddd-4cb7-f006-f400db496886"
   },
   "outputs": [
    {
     "name": "stdout",
     "output_type": "stream",
     "text": [
      "+--------------+-----------+----------+--------------+-----------+\n",
      "|     review_id|customer_id|product_id|product_parent|review_date|\n",
      "+--------------+-----------+----------+--------------+-----------+\n",
      "|R3SQLJ4PFRBJ7A|     163404|B0044G7D8I|     734974703| 2015-08-31|\n",
      "|R2I62GX0HLI3PW|    1611899|B00DYPDBY0|      95914319| 2015-08-31|\n",
      "| R7DTS8AA3UOQW|   15439392|B00D6RMFG6|     406305804| 2015-08-31|\n",
      "|R2M643SEPPUB29|   50550105|B009NN39YY|     533160261| 2015-08-31|\n",
      "|R13XD9APWPDDCV|   41146239|B003GEBGA0|     934931360| 2015-08-31|\n",
      "|R2FKNKI9UINYDQ|   13761624|B007J49GPK|     575084461| 2015-08-31|\n",
      "|R1JRDWL6T0FTW4|   46308489|B00432PKDS|      83395415| 2015-08-31|\n",
      "|R1L05FBIZU70HQ|   29341703|B00VHKMK64|      57787460| 2015-08-30|\n",
      "|R2ESKIJVZFMMOZ|    7566541|B003B080LW|     459750077| 2015-08-30|\n",
      "|R249JMOJMB23FQ|   18850955|B00CMKFO66|     417659397| 2015-08-30|\n",
      "|R166DR1U8B3DAC|   41410353|B0009EU0S4|      36879237| 2015-08-30|\n",
      "|R3ARA94XDNTZ6L|    4089808|B00SM4KA2E|     882569609| 2015-08-30|\n",
      "|R1IMXFDF7SOLXS|   25712718|B001R76D42|     751356711| 2015-08-30|\n",
      "|R2IQT2ZR10SODS|    6638516|B011SI3P18|      25527040| 2015-08-29|\n",
      "|R2G1NF8JXIHSMK|    9179907|B00B6HKX7Q|     684620889| 2015-08-29|\n",
      "|R22QPA398QIS97|   11341590|B00GJLHDEA|     156025047| 2015-08-29|\n",
      "|R2V1DLRO4TY7KL|   25325981|B004TVJL1U|     661066010| 2015-08-29|\n",
      "|R2VF3JD19FXMKJ|   11725564|B007BY2F7O|     697291736| 2015-08-29|\n",
      "| RPYTO3EZOOYR7|   28704098|B00F893H6W|     795205772| 2015-08-29|\n",
      "|R2KLM819PT5T28|   26586489|B00VIDJBXK|      89401568| 2015-08-28|\n",
      "+--------------+-----------+----------+--------------+-----------+\n",
      "only showing top 20 rows\n",
      "\n"
     ]
    }
   ],
   "source": [
    "# Create user dataframe to match active_user table.\n",
    "review_id_table2 = instrument_df.select([\"review_id\", \"customer_id\", \"product_id\", \"product_parent\", \"review_date\"]).distinct()\n",
    "review_id_table2.show()"
   ]
  },
  {
   "cell_type": "code",
   "execution_count": 13,
   "metadata": {
    "colab": {
     "base_uri": "https://localhost:8080/"
    },
    "id": "ttkyyfX419RQ",
    "outputId": "64171261-662f-4ec7-b1dc-287e289c0d80"
   },
   "outputs": [
    {
     "name": "stdout",
     "output_type": "stream",
     "text": [
      "+----------+--------------------+\n",
      "|product_id|       product_title|\n",
      "+----------+--------------------+\n",
      "|0577088726|Sisyphus Redux fo...|\n",
      "|0594478944|Nook Audio OE250 ...|\n",
      "|0634010263|Hal Leonard Maná ...|\n",
      "|0634029355|Hal Leonard Eric ...|\n",
      "|0634056727|Hal Leonard My Fi...|\n",
      "|0692218645|Ukulele Chord Cha...|\n",
      "|0739050583|Alfred Billy Ward...|\n",
      "|073906407X|Alfred Alfred's P...|\n",
      "|0739075934|Alfred BILLY MART...|\n",
      "|0739081381|Brandi Carlile Th...|\n",
      "|0739086731|Harry Potter -- S...|\n",
      "|0757918573|WB Wooten & Baile...|\n",
      "|075799380X|WB Acoustic Blues...|\n",
      "|0786615303|Premium Clarke Ti...|\n",
      "|0786647272|The Best of Acous...|\n",
      "|0786647434|The Sweetone Tinw...|\n",
      "|0793525292|Hal Leonard The B...|\n",
      "|0793536227|Hal Leonard Eric ...|\n",
      "|0793543169|Hal Leonard Best ...|\n",
      "|0793587395|Hal Leonard Third...|\n",
      "+----------+--------------------+\n",
      "only showing top 20 rows\n",
      "\n"
     ]
    }
   ],
   "source": [
    "# Create user dataframe to match products table.\n",
    "products2 = instrument_df.select([\"product_id\", \"product_title\"]).distinct()\n",
    "products2 = products2.dropDuplicates([\"product_id\"]) \n",
    "products2.show()"
   ]
  },
  {
   "cell_type": "code",
   "execution_count": 14,
   "metadata": {
    "colab": {
     "base_uri": "https://localhost:8080/"
    },
    "id": "Chb93Djo19T3",
    "outputId": "12f89b42-f92c-4c7d-dfca-594f941d9270"
   },
   "outputs": [
    {
     "name": "stdout",
     "output_type": "stream",
     "text": [
      "+-----------+--------------+\n",
      "|customer_id|customer_count|\n",
      "+-----------+--------------+\n",
      "|   11692003|        573149|\n",
      "|   14536626|        573149|\n",
      "|   51049664|        573149|\n",
      "|   20160691|        573149|\n",
      "|   14305160|        573149|\n",
      "|   19528917|        573149|\n",
      "|    3207461|        573149|\n",
      "|   34550088|        573149|\n",
      "|    4361068|        573149|\n",
      "|    8558726|        573149|\n",
      "|   28646597|        573149|\n",
      "|   47377123|        573149|\n",
      "|    4754795|        573149|\n",
      "|   29694582|        573149|\n",
      "|   22681561|        573149|\n",
      "|   23295386|        573149|\n",
      "|    4052476|        573149|\n",
      "|   39710984|        573149|\n",
      "|   51136140|        573149|\n",
      "|   14408152|        573149|\n",
      "+-----------+--------------+\n",
      "only showing top 20 rows\n",
      "\n"
     ]
    }
   ],
   "source": [
    "# Create user dataframe to match customers table.\n",
    "customers2 = instrument_df.select([\"customer_id\", \"customer_count\"]).distinct()\n",
    "customers2.show()"
   ]
  },
  {
   "cell_type": "code",
   "execution_count": 15,
   "metadata": {
    "colab": {
     "base_uri": "https://localhost:8080/"
    },
    "id": "swUowpvC19Wf",
    "outputId": "1594bdfc-4525-4585-afbf-8cb8542414c2"
   },
   "outputs": [
    {
     "name": "stdout",
     "output_type": "stream",
     "text": [
      "+--------------+-----------+-------------+-----------+----+\n",
      "|     review_id|star_rating|helpful_votes|total_votes|vine|\n",
      "+--------------+-----------+-------------+-----------+----+\n",
      "|R31OIOD3CP2FB1|          4|            0|          0|   N|\n",
      "|R305KWI3KUXZXL|          1|            0|          1|   N|\n",
      "| RP2ANS7W0GPWY|          5|            0|          0|   N|\n",
      "|R39BU4Q0BMH4X5|          1|            1|          2|   N|\n",
      "|R1RHM0E24VMWTU|          5|            0|          0|   N|\n",
      "| RUE8HYKC651I9|          5|            0|          1|   N|\n",
      "|R1ZFEOXT6R71AD|          3|            0|          0|   N|\n",
      "|R16HC2LDVNEZG5|          4|            0|          1|   N|\n",
      "|R32TGGBBP6XLXI|          4|            0|          0|   N|\n",
      "|R1VWTMMQJLCYS5|          5|            0|          0|   N|\n",
      "| RBTTLEGPEIX19|          5|            0|          0|   N|\n",
      "|R1IQ99II3ARA3H|          5|            0|          2|   N|\n",
      "|R3VWE1XJGT4YVW|          4|            0|          0|   N|\n",
      "|R10USIE781BXF1|          3|            1|          1|   N|\n",
      "|  RDYNQUGWQG5I|          5|            0|          0|   N|\n",
      "| REAJKHJM4XCUD|          5|            0|          0|   N|\n",
      "|R2W3WD1AZB5149|          5|            0|          0|   N|\n",
      "| RDPG2HAOLNEHT|          5|            0|          0|   N|\n",
      "|R2S6CV2PCN27VI|          5|            1|          1|   N|\n",
      "|R3GESVM9MTFLCK|          5|            0|          0|   N|\n",
      "+--------------+-----------+-------------+-----------+----+\n",
      "only showing top 20 rows\n",
      "\n"
     ]
    }
   ],
   "source": [
    "# Create user dataframe to match vine table.\n",
    "vine_table2 = instrument_df.select([\"review_id\", \"star_rating\", \"helpful_votes\", \"total_votes\", \"vine\"]).distinct()\n",
    "vine_table2.show()"
   ]
  },
  {
   "cell_type": "code",
   "execution_count": 16,
   "metadata": {
    "id": "iLzTRzbi19ZP"
   },
   "outputs": [],
   "source": [
    "# Configuration for RDS instance.\n",
    "mode=\"append\"\n",
    "jdbc_url = \"jdbc:postgresql://XXXXXXXX:5432/big_data_challenge_RDS_1\"\n",
    "config = {\"user\":\"XXXXXXXX\",\n",
    "          \"password\": \"XXXXXXXX\",\n",
    "          \"driver\":\"org.postgresql.Driver\"}"
   ]
  },
  {
   "cell_type": "code",
   "execution_count": 17,
   "metadata": {
    "id": "d3GRthZv19cI"
   },
   "outputs": [],
   "source": [
    "# Write review_id_table DataFrame to table.\n",
    "\n",
    "review_id_table2.write.jdbc(url=jdbc_url, table='review_id_table2', mode=mode, properties=config)"
   ]
  },
  {
   "cell_type": "code",
   "execution_count": 18,
   "metadata": {
    "id": "ajAovc5ZXI8A"
   },
   "outputs": [],
   "source": [
    "# Write products DataFrame to table.\n",
    "\n",
    "products2.write.jdbc(url=jdbc_url, table='products2', mode=mode, properties=config)"
   ]
  },
  {
   "cell_type": "code",
   "execution_count": 19,
   "metadata": {
    "id": "l0wi6QCuXI-0"
   },
   "outputs": [],
   "source": [
    "# Write products DataFrame to table.\n",
    "\n",
    "customers2.write.jdbc(url=jdbc_url, table='customers2', mode=mode, properties=config)"
   ]
  },
  {
   "cell_type": "code",
   "execution_count": 20,
   "metadata": {
    "id": "GY39cGegXJBe"
   },
   "outputs": [],
   "source": [
    "# Write vine DataFrame to table.\n",
    "\n",
    "vine_table2.write.jdbc(url=jdbc_url, table='vine_table2', mode=mode, properties=config)"
   ]
  },
  {
   "cell_type": "code",
   "execution_count": null,
   "metadata": {
    "id": "1aPPhAQMXJD7"
   },
   "outputs": [],
   "source": []
  },
  {
   "cell_type": "code",
   "execution_count": null,
   "metadata": {
    "id": "B4F7I8rcXJGr"
   },
   "outputs": [],
   "source": []
  },
  {
   "cell_type": "code",
   "execution_count": null,
   "metadata": {
    "id": "AFMxto6iXJJo"
   },
   "outputs": [],
   "source": []
  },
  {
   "cell_type": "code",
   "execution_count": null,
   "metadata": {
    "id": "S9q0W_ADXJMF"
   },
   "outputs": [],
   "source": []
  },
  {
   "cell_type": "code",
   "execution_count": null,
   "metadata": {
    "id": "hiEKQGz8XJOq"
   },
   "outputs": [],
   "source": []
  },
  {
   "cell_type": "code",
   "execution_count": null,
   "metadata": {
    "id": "3GAqT5vtXJRT"
   },
   "outputs": [],
   "source": []
  },
  {
   "cell_type": "code",
   "execution_count": null,
   "metadata": {
    "id": "qRp_H6tkXJUQ"
   },
   "outputs": [],
   "source": []
  }
 ],
 "metadata": {
  "colab": {
   "collapsed_sections": [],
   "name": "Big-Data-Challenge-2.ipynb",
   "provenance": []
  },
  "kernelspec": {
   "display_name": "Python 3",
   "language": "python",
   "name": "python3"
  },
  "language_info": {
   "codemirror_mode": {
    "name": "ipython",
    "version": 3
   },
   "file_extension": ".py",
   "mimetype": "text/x-python",
   "name": "python",
   "nbconvert_exporter": "python",
   "pygments_lexer": "ipython3",
   "version": "3.8.8"
  }
 },
 "nbformat": 4,
 "nbformat_minor": 1
}
